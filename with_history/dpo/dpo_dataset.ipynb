{
 "cells": [
  {
   "cell_type": "code",
   "execution_count": null,
   "metadata": {},
   "outputs": [],
   "source": [
    "%cd /with_history/dpo"
   ]
  },
  {
   "cell_type": "code",
   "execution_count": null,
   "metadata": {},
   "outputs": [],
   "source": [
    "# DMPO & SDPO"
   ]
  },
  {
   "cell_type": "code",
   "execution_count": null,
   "metadata": {},
   "outputs": [],
   "source": [
    "category='Video_Games'\n",
    "start_year=2015\n",
    "end_year=2018\n",
    "category_dict = {\"CDs_and_Vinyl\": \"musics\", \"Video_Games\": \"video games\", 'Movies_and_TV': 'movies and TV'}\n",
    "item_category = category_dict[category]"
   ]
  },
  {
   "cell_type": "code",
   "execution_count": null,
   "metadata": {},
   "outputs": [],
   "source": [
    "train_file=f\"../train/{category}_5_{start_year}-10-{end_year}-11.csv\"\n",
    "eval_file=f\"../valid/{category}_5_{start_year}-10-{end_year}-11.csv\"\n",
    "info_file=f\"../info/{category}_5_{start_year}-10-{end_year}-11.txt\"\n",
    "train_input = []\n",
    "eval_input = []"
   ]
  },
  {
   "cell_type": "code",
   "execution_count": null,
   "metadata": {},
   "outputs": [],
   "source": [
    "def get_history(row, category):\n",
    "    row['history_item_title'] = eval(row['history_item_title'])\n",
    "    L = len(row['history_item_title']) \n",
    "    history = \"\"\n",
    "    for i in range(L):\n",
    "        if i == 0:\n",
    "            history += row['history_item_title'][i]\n",
    "        else:\n",
    "            history += \", \" + row['history_item_title'][i]     \n",
    "    target_item = str(row['item_title'])\n",
    "    target_item = target_item\n",
    "    target_item_id = row[\"item_id\"]\n",
    "    last_history_item_id = eval(row[\"history_item_id\"])[-1]\n",
    "    return {\"input\": f\"The user has enjoyed the following {category}s before: {history}\",\n",
    "            \"output\": target_item + '\\n',\n",
    "            \"dedup\": target_item_id == last_history_item_id}"
   ]
  },
  {
   "cell_type": "code",
   "execution_count": null,
   "metadata": {},
   "outputs": [],
   "source": [
    "all_item = []\n",
    "with open(info_file, 'r') as f:\n",
    "    info = f.readlines()\n",
    "    all_item = [_.split('\\t')[0].strip(' ') + \"\\n\" for _ in info]\n",
    "print(len(all_item))"
   ]
  },
  {
   "cell_type": "code",
   "execution_count": null,
   "metadata": {},
   "outputs": [],
   "source": [
    "import random\n",
    "import pandas as pd\n",
    "from tqdm import tqdm\n",
    "def generate_prompt(data_point, category):\n",
    "    return f\"\"\"Below is an instruction that describes a task, paired with an input that provides further context. Write a response that appropriately completes the request. \n",
    "\n",
    "### Instruction:\n",
    "Given a list of {category} the user recently enjoy, please write a new {category} that the user may bought\n",
    "\n",
    "### User Input: \n",
    "{data_point[\"input\"]}\n",
    "\n",
    "### Response: \n",
    "\"\"\"\n",
    "train_data = pd.read_csv(train_file)\n",
    "eval_data = pd.read_csv(eval_file)\n",
    "for i in tqdm(range(len(train_data))):\n",
    "    history = get_history(train_data.iloc[i], item_category)\n",
    "    other_item = list(filter(lambda x: x != history['output'], all_item))\n",
    "    rejecteds = random.sample(other_item, 3)\n",
    "    train_input.append({'prompt':generate_prompt(history, item_category), 'chosen':history['output'], 'rejected1':rejecteds[0], 'rejected2':rejecteds[1], 'rejected3':rejecteds[2]})\n",
    "for i in tqdm(range(len(eval_data))):\n",
    "    history = get_history(eval_data.iloc[i], item_category)\n",
    "    other_item = list(filter(lambda x: x != history['output'], all_item))\n",
    "    rejecteds = random.sample(other_item, 3)\n",
    "    eval_input.append({'prompt':generate_prompt(history, item_category), 'chosen':history['output'], 'rejected1':rejecteds[0], 'rejected2':rejecteds[1], 'rejected3':rejecteds[2]})"
   ]
  },
  {
   "cell_type": "code",
   "execution_count": null,
   "metadata": {},
   "outputs": [],
   "source": [
    "import json\n",
    "with open(f'./data/{category}/{category}_dpo_train_dataset.json', 'w') as f:\n",
    "    json.dump(train_input, f, indent=4)\n",
    "with open(f'./data/{category}/{category}_dpo_eval_dataset.json', 'w') as f:\n",
    "    json.dump(eval_input, f, indent=4)"
   ]
  },
  {
   "cell_type": "code",
   "execution_count": null,
   "metadata": {},
   "outputs": [],
   "source": [
    "# RoseDPO"
   ]
  },
  {
   "cell_type": "code",
   "execution_count": null,
   "metadata": {},
   "outputs": [],
   "source": [
    "category='Video_Games'\n",
    "start_year=2015\n",
    "end_year=2018\n",
    "category_dict = {\"CDs_and_Vinyl\": \"musics\", \"Video_Games\": \"video games\", 'Movies_and_TV': 'movies and TV'}\n",
    "item_category = category_dict[category]"
   ]
  },
  {
   "cell_type": "code",
   "execution_count": null,
   "metadata": {},
   "outputs": [],
   "source": [
    "train_file=f\"../train/{category}_5_{start_year}-10-{end_year}-11.csv\"\n",
    "eval_file=f\"../valid/{category}_5_{start_year}-10-{end_year}-11.csv\"\n",
    "info_file=f\"../info/{category}_5_{start_year}-10-{end_year}-11.txt\"\n",
    "title_interaction=f\"../info/{category}_title_interaction_5_{start_year}-10-{end_year}-11.json\"\n",
    "train_input = []\n",
    "eval_input = []"
   ]
  },
  {
   "cell_type": "code",
   "execution_count": null,
   "metadata": {},
   "outputs": [],
   "source": [
    "def get_history(row, category):\n",
    "    row['history_item_title'] = eval(row['history_item_title'])\n",
    "    L = len(row['history_item_title']) \n",
    "    history = \"\"\n",
    "    for i in range(L):\n",
    "        if i == 0:\n",
    "            history += row['history_item_title'][i]\n",
    "        else:\n",
    "            history += \", \" + row['history_item_title'][i]     \n",
    "    target_item = str(row['item_title'])\n",
    "    target_item = target_item\n",
    "    target_item_id = row[\"item_id\"]\n",
    "    last_history_item_id = eval(row[\"history_item_id\"])[-1]\n",
    "    return {\"input\": f\"The user has enjoyed the following {category}s before: {history}\",\n",
    "            \"output\": target_item + '\\n',\n",
    "            \"dedup\": target_item_id == last_history_item_id}"
   ]
  },
  {
   "cell_type": "code",
   "execution_count": null,
   "metadata": {},
   "outputs": [],
   "source": [
    "def get_prob(row, title2inter):\n",
    "    row['history_item_title'] = eval(row['history_item_title'])\n",
    "    L = len(row['history_item_title']) \n",
    "    for i in range(L):\n",
    "        if row['history_item_title'][i] not in title2inter:\n",
    "            title2inter[row['history_item_title'][i]] = 0\n",
    "        title2inter[row['history_item_title'][i]] += 1\n",
    "    return title2inter"
   ]
  },
  {
   "cell_type": "code",
   "execution_count": null,
   "metadata": {},
   "outputs": [],
   "source": [
    "all_item = []\n",
    "with open(info_file, 'r') as f:\n",
    "    info = f.readlines()\n",
    "    all_item = [_.split('\\t')[0].strip(' ') + \"\\n\" for _ in info]\n",
    "print(len(all_item))"
   ]
  },
  {
   "cell_type": "code",
   "execution_count": null,
   "metadata": {},
   "outputs": [],
   "source": [
    "import random\n",
    "import pandas as pd\n",
    "from tqdm import tqdm\n",
    "def generate_prompt(data_point, category):\n",
    "    return f\"\"\"Below is an instruction that describes a task, paired with an input that provides further context. Write a response that appropriately completes the request. \n",
    "\n",
    "### Instruction:\n",
    "Given a list of {category} the user recently enjoy, please write a new {category} that the user may bought\n",
    "\n",
    "### User Input: \n",
    "{data_point[\"input\"]}\n",
    "\n",
    "### Response: \n",
    "\"\"\"\n",
    "train_data = pd.read_csv(train_file)\n",
    "eval_data = pd.read_csv(eval_file)\n",
    "with open(title_interaction, \"r\") as input_file:\n",
    "    title_inter = json.load(input_file)\n",
    "for i in tqdm(range(len(train_data))):\n",
    "    history = get_history(train_data.iloc[i], item_category)\n",
    "    new_list = list(set(all_item.copy()))\n",
    "    new_list.remove(history['output'])\n",
    "    t2i = title_inter.copy()\n",
    "    if history['output'].strip('\\n') in t2i:\n",
    "        del t2i[history['output'].strip('\\n')] \n",
    "    total = sum(t2i.values())\n",
    "    t2i = {k+\"\\n\": v / total for k, v in t2i.items()}\n",
    "    weights = [t2i.get(item, 0) for item in new_list]\n",
    "    rejecteds = random.choices(new_list, weights=weights, k=1)[0]\n",
    "    train_input.append({'prompt':generate_prompt(history, item_category), 'chosen':history['output'], 'rejected':rejecteds})\n",
    "for i in tqdm(range(len(eval_data))):\n",
    "    history = get_history(eval_data.iloc[i], item_category)\n",
    "    new_list = list(set(all_item.copy()))\n",
    "    new_list.remove(history['output'])\n",
    "    t2i = title_inter.copy()\n",
    "    if history['output'].strip('\\n') in t2i:\n",
    "        del t2i[history['output'].strip('\\n')] \n",
    "    total = sum(t2i.values())\n",
    "    t2i = {k+\"\\n\": v / total for k, v in t2i.items()}\n",
    "    weights = [t2i.get(item, 0) for item in new_list]\n",
    "    rejecteds = random.choices(new_list, weights=weights, k=1)[0]\n",
    "    eval_input.append({'prompt':generate_prompt(history, item_category), 'chosen':history['output'], 'rejected':rejecteds})"
   ]
  },
  {
   "cell_type": "code",
   "execution_count": null,
   "metadata": {},
   "outputs": [],
   "source": [
    "import json\n",
    "with open(f'./data/{category}/{category}_rosedpo_train_dataset.json', 'w') as f:\n",
    "    json.dump(train_input, f, indent=4)\n",
    "with open(f'./data/{category}/{category}_rosedpo_eval_dataset.json', 'w') as f:\n",
    "    json.dump(eval_input, f, indent=4)"
   ]
  }
 ],
 "metadata": {
  "kernelspec": {
   "display_name": "alpaca_lora",
   "language": "python",
   "name": "python3"
  },
  "language_info": {
   "codemirror_mode": {
    "name": "ipython",
    "version": 3
   },
   "file_extension": ".py",
   "mimetype": "text/x-python",
   "name": "python",
   "nbconvert_exporter": "python",
   "pygments_lexer": "ipython3",
   "version": "3.9.19"
  },
  "orig_nbformat": 4,
  "vscode": {
   "interpreter": {
    "hash": "59fa845e12d05d721e6f4368480cbf49d04f4a649a02e83c3e47bffdee3cc61a"
   }
  }
 },
 "nbformat": 4,
 "nbformat_minor": 2
}
